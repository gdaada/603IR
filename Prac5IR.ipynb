{
 "cells": [
  {
   "cell_type": "code",
   "execution_count": 1,
   "id": "f5035f8e-2a58-45b2-844e-cea19bb3a1aa",
   "metadata": {},
   "outputs": [],
   "source": [
    "import pandas as pd\n",
    "from sklearn.model_selection import train_test_split\n",
    "from sklearn.feature_extraction.text import CountVectorizer \n",
    "from sklearn.naive_bayes import MultinomialNB\n",
    "from sklearn.metrics import accuracy_score, classification_report"
   ]
  },
  {
   "cell_type": "code",
   "execution_count": 2,
   "id": "c8e81604-7b74-42d4-8351-a31b87f1d6f8",
   "metadata": {},
   "outputs": [],
   "source": [
    "# Load the CSV file\n",
    "df = pd.read_csv(\"Dataset.csv\") \n",
    "data = df[\"covid\"] + \"\" + df[\"fever\"]\n",
    "X = data.astype(str)\t# Test data \n",
    "y = df['flu']"
   ]
  },
  {
   "cell_type": "code",
   "execution_count": 3,
   "id": "271edf09-7bc8-472e-9cbd-21f1c5330964",
   "metadata": {},
   "outputs": [],
   "source": [
    "# Splitting the data into training and test data\n",
    "X_train, X_test, y_train, y_test = train_test_split(X, y, test_size = 0.2, random_state = 42)"
   ]
  },
  {
   "cell_type": "code",
   "execution_count": 4,
   "id": "1f718911-4e76-4908-9738-c1f0347d2cc6",
   "metadata": {},
   "outputs": [
    {
     "data": {
      "text/html": [
       "<style>#sk-container-id-1 {color: black;}#sk-container-id-1 pre{padding: 0;}#sk-container-id-1 div.sk-toggleable {background-color: white;}#sk-container-id-1 label.sk-toggleable__label {cursor: pointer;display: block;width: 100%;margin-bottom: 0;padding: 0.3em;box-sizing: border-box;text-align: center;}#sk-container-id-1 label.sk-toggleable__label-arrow:before {content: \"▸\";float: left;margin-right: 0.25em;color: #696969;}#sk-container-id-1 label.sk-toggleable__label-arrow:hover:before {color: black;}#sk-container-id-1 div.sk-estimator:hover label.sk-toggleable__label-arrow:before {color: black;}#sk-container-id-1 div.sk-toggleable__content {max-height: 0;max-width: 0;overflow: hidden;text-align: left;background-color: #f0f8ff;}#sk-container-id-1 div.sk-toggleable__content pre {margin: 0.2em;color: black;border-radius: 0.25em;background-color: #f0f8ff;}#sk-container-id-1 input.sk-toggleable__control:checked~div.sk-toggleable__content {max-height: 200px;max-width: 100%;overflow: auto;}#sk-container-id-1 input.sk-toggleable__control:checked~label.sk-toggleable__label-arrow:before {content: \"▾\";}#sk-container-id-1 div.sk-estimator input.sk-toggleable__control:checked~label.sk-toggleable__label {background-color: #d4ebff;}#sk-container-id-1 div.sk-label input.sk-toggleable__control:checked~label.sk-toggleable__label {background-color: #d4ebff;}#sk-container-id-1 input.sk-hidden--visually {border: 0;clip: rect(1px 1px 1px 1px);clip: rect(1px, 1px, 1px, 1px);height: 1px;margin: -1px;overflow: hidden;padding: 0;position: absolute;width: 1px;}#sk-container-id-1 div.sk-estimator {font-family: monospace;background-color: #f0f8ff;border: 1px dotted black;border-radius: 0.25em;box-sizing: border-box;margin-bottom: 0.5em;}#sk-container-id-1 div.sk-estimator:hover {background-color: #d4ebff;}#sk-container-id-1 div.sk-parallel-item::after {content: \"\";width: 100%;border-bottom: 1px solid gray;flex-grow: 1;}#sk-container-id-1 div.sk-label:hover label.sk-toggleable__label {background-color: #d4ebff;}#sk-container-id-1 div.sk-serial::before {content: \"\";position: absolute;border-left: 1px solid gray;box-sizing: border-box;top: 0;bottom: 0;left: 50%;z-index: 0;}#sk-container-id-1 div.sk-serial {display: flex;flex-direction: column;align-items: center;background-color: white;padding-right: 0.2em;padding-left: 0.2em;position: relative;}#sk-container-id-1 div.sk-item {position: relative;z-index: 1;}#sk-container-id-1 div.sk-parallel {display: flex;align-items: stretch;justify-content: center;background-color: white;position: relative;}#sk-container-id-1 div.sk-item::before, #sk-container-id-1 div.sk-parallel-item::before {content: \"\";position: absolute;border-left: 1px solid gray;box-sizing: border-box;top: 0;bottom: 0;left: 50%;z-index: -1;}#sk-container-id-1 div.sk-parallel-item {display: flex;flex-direction: column;z-index: 1;position: relative;background-color: white;}#sk-container-id-1 div.sk-parallel-item:first-child::after {align-self: flex-end;width: 50%;}#sk-container-id-1 div.sk-parallel-item:last-child::after {align-self: flex-start;width: 50%;}#sk-container-id-1 div.sk-parallel-item:only-child::after {width: 0;}#sk-container-id-1 div.sk-dashed-wrapped {border: 1px dashed gray;margin: 0 0.4em 0.5em 0.4em;box-sizing: border-box;padding-bottom: 0.4em;background-color: white;}#sk-container-id-1 div.sk-label label {font-family: monospace;font-weight: bold;display: inline-block;line-height: 1.2em;}#sk-container-id-1 div.sk-label-container {text-align: center;}#sk-container-id-1 div.sk-container {/* jupyter's `normalize.less` sets `[hidden] { display: none; }` but bootstrap.min.css set `[hidden] { display: none !important; }` so we also need the `!important` here to be able to override the default hidden behavior on the sphinx rendered scikit-learn.org. See: https://github.com/scikit-learn/scikit-learn/issues/21755 */display: inline-block !important;position: relative;}#sk-container-id-1 div.sk-text-repr-fallback {display: none;}</style><div id=\"sk-container-id-1\" class=\"sk-top-container\"><div class=\"sk-text-repr-fallback\"><pre>MultinomialNB()</pre><b>In a Jupyter environment, please rerun this cell to show the HTML representation or trust the notebook. <br />On GitHub, the HTML representation is unable to render, please try loading this page with nbviewer.org.</b></div><div class=\"sk-container\" hidden><div class=\"sk-item\"><div class=\"sk-estimator sk-toggleable\"><input class=\"sk-toggleable__control sk-hidden--visually\" id=\"sk-estimator-id-1\" type=\"checkbox\" checked><label for=\"sk-estimator-id-1\" class=\"sk-toggleable__label sk-toggleable__label-arrow\">MultinomialNB</label><div class=\"sk-toggleable__content\"><pre>MultinomialNB()</pre></div></div></div></div></div>"
      ],
      "text/plain": [
       "MultinomialNB()"
      ]
     },
     "execution_count": 4,
     "metadata": {},
     "output_type": "execute_result"
    }
   ],
   "source": [
    "# Converting data into bag-of-data format to train the model \n",
    "vectorizer = CountVectorizer()\n",
    "\n",
    "# initializing the converter\n",
    "X_train_counts = vectorizer.fit_transform(X_train) # converting the training data\n",
    "X_test_counts = vectorizer.transform(X_test) # converting the test data\n",
    "# using and training the multinomial model of naive bayes algorithm \n",
    "classifier = MultinomialNB()\t# initializing the classifier \n",
    "classifier.fit(X_train_counts, y_train) # training the classifier\n"
   ]
  },
  {
   "cell_type": "code",
   "execution_count": 5,
   "id": "6f654191-2aac-4a46-b4d6-55e9ae186d08",
   "metadata": {},
   "outputs": [],
   "source": [
    "# loading another dataset to test if the model is working properly\n",
    "data1 = pd.read_csv(\"Dataset.csv\") \n",
    "new_data = data1[\"covid\"] + \"\" + data1[\"fever\"]\n",
    "new_data_counts = vectorizer.transform(new_data.astype(str))\t# converting the new data"
   ]
  },
  {
   "cell_type": "code",
   "execution_count": 6,
   "id": "c813c060-9dd1-4bd2-9701-3faa6e7319e3",
   "metadata": {},
   "outputs": [],
   "source": [
    "# making the model to predict the results for new dataset \n",
    "predictions = classifier.predict(new_data_counts)"
   ]
  },
  {
   "cell_type": "code",
   "execution_count": 7,
   "id": "35636a4e-b8f6-47fc-be8c-4b6ad51c635c",
   "metadata": {},
   "outputs": [
    {
     "name": "stdout",
     "output_type": "stream",
     "text": [
      "['yes' 'no' 'no' 'no' 'no' 'yes' 'no' 'yes' 'no' 'no']\n"
     ]
    }
   ],
   "source": [
    "# Output the results \n",
    "new_data = predictions \n",
    "print(new_data)"
   ]
  },
  {
   "cell_type": "code",
   "execution_count": 8,
   "id": "8fe96a3d-375c-422e-827b-468f51693bb2",
   "metadata": {},
   "outputs": [
    {
     "name": "stdout",
     "output_type": "stream",
     "text": [
      "\n",
      "Accuracy: 1.00\n"
     ]
    }
   ],
   "source": [
    "# retrieving the accuracy and classification report\n",
    "accuracy = accuracy_score(y_test, classifier.predict(X_test_counts)) \n",
    "print(f\"\\nAccuracy: {accuracy:.2f}\")\n"
   ]
  },
  {
   "cell_type": "code",
   "execution_count": 9,
   "id": "28e12232-1d75-4c95-9adf-2b84a2328b1a",
   "metadata": {},
   "outputs": [
    {
     "name": "stdout",
     "output_type": "stream",
     "text": [
      "Classification Report: \n",
      "              precision    recall  f1-score   support\n",
      "\n",
      "          no       1.00      1.00      1.00         2\n",
      "\n",
      "    accuracy                           1.00         2\n",
      "   macro avg       1.00      1.00      1.00         2\n",
      "weighted avg       1.00      1.00      1.00         2\n",
      "\n"
     ]
    }
   ],
   "source": [
    "print(\"Classification Report: \")\n",
    "print(classification_report(y_test, classifier.predict(X_test_counts)))"
   ]
  },
  {
   "cell_type": "code",
   "execution_count": 10,
   "id": "b969c116-e479-48ee-9068-a807c40f9d9e",
   "metadata": {},
   "outputs": [],
   "source": [
    "# Convert the predictions to a DataFrame\n",
    "predictions_df = pd.DataFrame(predictions, columns = ['flu_prediction'])"
   ]
  },
  {
   "cell_type": "code",
   "execution_count": 11,
   "id": "e16d6ad4-b8f3-4085-9326-6a433b05342f",
   "metadata": {},
   "outputs": [],
   "source": [
    "# concatenate the original DataFrame with the predictions DataFrame \n",
    "data1 = pd.concat([data1, predictions_df], axis = 1)"
   ]
  },
  {
   "cell_type": "code",
   "execution_count": 12,
   "id": "a851eeb7-2564-4d91-b458-753d67789d54",
   "metadata": {},
   "outputs": [],
   "source": [
    "# write the DataFrame back to CSV \n",
    "data1.to_csv(\"C:\\\\Users\\\\Admin\\\\Desktop\\\\TY05 Rehmah\\\\603 IR\\\\Test1.csv\", index = False)"
   ]
  },
  {
   "cell_type": "code",
   "execution_count": null,
   "id": "1ed3db0c-c4f6-4ccd-975d-f7383b4e9d27",
   "metadata": {},
   "outputs": [],
   "source": []
  }
 ],
 "metadata": {
  "kernelspec": {
   "display_name": "Python 3 (ipykernel)",
   "language": "python",
   "name": "python3"
  },
  "language_info": {
   "codemirror_mode": {
    "name": "ipython",
    "version": 3
   },
   "file_extension": ".py",
   "mimetype": "text/x-python",
   "name": "python",
   "nbconvert_exporter": "python",
   "pygments_lexer": "ipython3",
   "version": "3.11.2"
  }
 },
 "nbformat": 4,
 "nbformat_minor": 5
}
